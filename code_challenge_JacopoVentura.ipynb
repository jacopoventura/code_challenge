{
 "cells": [
  {
   "cell_type": "markdown",
   "metadata": {},
   "source": [
    "### Description of the code\n",
    "\n",
    "The code parses each line of the text file in order to find single words. To detect single words, python's Regular Expression library is used. A python dictionary is built in order to count unique words. Here each unique word is a key, whereas the value is the number of repetition in the text.\n",
    "\n",
    "Subsequently, the dictionary is ordered according to the number of repetitions using python's sorted function. The ordered dictionary is exported as text file according to the required output.\n",
    "\n",
    "### Testing\n",
    "\n",
    "I would test my code as follows:\n",
    "\n",
    "- the code consists of several functions, therefore I would test each module separately starting from the first part (parsing the text file). Notably, the code should consist of several functions rather that an unique script \n",
    "\n",
    "- I would use tools like python's unittest to test the core functions, starting from the function that detects words in a single line. I would build my unittest class and execute tests on basic simple text sentences\n",
    "\n",
    "- Once I am sure that the function works for standard cases, I would conduct more tests on edge cases (lines with numbers, parenthesis, etc..)\n",
    "\n",
    "- Repeat tests for every function / block of the code"
   ]
  },
  {
   "cell_type": "markdown",
   "metadata": {},
   "source": [
    "### Part I: parsing the text file to extract and count words"
   ]
  },
  {
   "cell_type": "code",
   "execution_count": null,
   "metadata": {
    "collapsed": true
   },
   "outputs": [],
   "source": [
    "import re\n",
    "\n",
    "# function to check if string is a number (integer)\n",
    "def RepresentsInt(s):\n",
    "    try: \n",
    "        int(s)\n",
    "        return True\n",
    "    except ValueError:\n",
    "        return False\n",
    "    \n",
    "# Empty dictionary that will record repeated words and the number of repetitions\n",
    "words_DICT = {}   \n",
    "\n",
    "# pattern of the string that recognizes single words\n",
    "name_re = re.compile(r'\\w+',re.I)\n",
    "\n",
    "# load the text file and parse each line \n",
    "with open(\"text.txt\") as ifile:\n",
    "    for line in ifile:\n",
    "        for word in re.findall(r'\\w+', line):\n",
    "            w = word.lower() # trasnform uppercase letters in lowercase\n",
    "            if not RepresentsInt(word):    # check if the word is a number. If not, save it as key\n",
    "                # update dictionary\n",
    "                if w in words_DICT:\n",
    "                    words_DICT[w]+=1\n",
    "                else:\n",
    "                    words_DICT[w]=1"
   ]
  },
  {
   "cell_type": "markdown",
   "metadata": {},
   "source": [
    "### Part II: ordering the words and save the output text file"
   ]
  },
  {
   "cell_type": "code",
   "execution_count": null,
   "metadata": {
    "collapsed": true
   },
   "outputs": [],
   "source": [
    "# Sort dictionary according to the number of repetitions\n",
    "sorted_names = sorted(words_DICT, key=lambda x: words_DICT[x], reverse=True)\n",
    "\n",
    "# write output file\n",
    "file = open(\"text_output.txt\",\"w\") \n",
    "\n",
    "for k in sorted_names:\n",
    "    file.write('%s (%s)\\n' % (k, words_DICT[k]))\n",
    "    # print(\"{} : {}\".format(k, words_DICT[k]))\n",
    "file.close() "
   ]
  }
 ],
 "metadata": {
  "kernelspec": {
   "display_name": "Python 3",
   "language": "python",
   "name": "python3"
  },
  "language_info": {
   "codemirror_mode": {
    "name": "ipython",
    "version": 3
   },
   "file_extension": ".py",
   "mimetype": "text/x-python",
   "name": "python",
   "nbconvert_exporter": "python",
   "pygments_lexer": "ipython3",
   "version": "3.6.1"
  }
 },
 "nbformat": 4,
 "nbformat_minor": 2
}
